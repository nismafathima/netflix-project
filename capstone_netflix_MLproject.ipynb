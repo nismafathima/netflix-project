{
  "nbformat": 4,
  "nbformat_minor": 0,
  "metadata": {
    "colab": {
      "provenance": []
    },
    "kernelspec": {
      "name": "python3",
      "display_name": "Python 3"
    },
    "language_info": {
      "name": "python"
    }
  },
  "cells": [
    {
      "cell_type": "code",
      "execution_count": null,
      "metadata": {
        "id": "NAkh5Ny91Ae3"
      },
      "outputs": [],
      "source": [
        "# Netflix Recommendation Engine - Capstone Project\n",
        "\n",
        "# Dataset: ID (user/movie), Rating, Genre, Movie Name\n",
        "# Objective 1: Most popular and liked genres\n",
        "# Objective 2: Create Model for best suited movies per user per genre\n",
        "# Objective 3: Best and worst rated genres\n",
        "# Using: Linear Regression, Decision Tree, Random Forest\n"
      ]
    },
    {
      "cell_type": "code",
      "source": [
        "import pandas as pd\n",
        "import numpy as np\n",
        "import matplotlib.pyplot as plt\n",
        "from sklearn.linear_model import LinearRegression\n",
        "from sklearn.tree import DecisionTreeRegressor\n",
        "from sklearn.ensemble import RandomForestRegressor\n",
        "from sklearn.model_selection import train_test_split\n",
        "from sklearn.metrics import mean_squared_error\n",
        "import warnings\n",
        "warnings.filterwarnings('ignore')"
      ],
      "metadata": {
        "id": "Fk4_6l8z1chD"
      },
      "execution_count": null,
      "outputs": []
    },
    {
      "cell_type": "code",
      "source": [
        "# Step 1: Create Simple Dataset\n",
        "print(\"🎬 Creating Netflix Dataset...\")"
      ],
      "metadata": {
        "colab": {
          "base_uri": "https://localhost:8080/"
        },
        "id": "Q45KVCKj1uKt",
        "outputId": "f539f20e-f0db-4ea4-b30e-02926466703e"
      },
      "execution_count": null,
      "outputs": [
        {
          "output_type": "stream",
          "name": "stdout",
          "text": [
            "🎬 Creating Netflix Dataset...\n"
          ]
        }
      ]
    },
    {
      "cell_type": "code",
      "source": [
        "# Sample Movies Data\n",
        "movies = pd.DataFrame({\n",
        "    'movie_id': [1, 2, 3, 4, 5, 6, 7, 8, 9, 10],\n",
        "    'movie_name': ['Action Movie 1', 'Comedy Movie 1', 'Drama Movie 1',\n",
        "                   'Action Movie 2', 'Comedy Movie 2', 'Drama Movie 2',\n",
        "                   'Action Movie 3', 'Comedy Movie 3', 'Drama Movie 3', 'Horror Movie 1'],\n",
        "    'genre': ['Action', 'Comedy', 'Drama', 'Action', 'Comedy',\n",
        "              'Drama', 'Action', 'Comedy', 'Drama', 'Horror']\n",
        "})"
      ],
      "metadata": {
        "id": "3XNm2TQE13HV"
      },
      "execution_count": null,
      "outputs": []
    },
    {
      "cell_type": "code",
      "source": [
        "\n",
        "# Sample Ratings Data\n",
        "np.random.seed(42)\n",
        "ratings_data = []\n",
        "for user in range(1, 21):  # 20 users\n",
        "    for movie in range(1, 11):  # 10 movies\n",
        "        if np.random.random() > 0.3:  # 70% chance user rated the movie\n",
        "            rating = np.random.randint(1, 6)  # Rating 1-5\n",
        "            ratings_data.append([user, movie, rating])\n",
        "\n",
        "ratings = pd.DataFrame(ratings_data, columns=['user_id', 'movie_id', 'rating'])\n",
        "\n",
        "print(f\"✅ Created {len(movies)} movies and {len(ratings)} ratings\")\n",
        "print(\"\\nSample Movies:\")\n",
        "print(movies)\n",
        "print(\"\\nSample Ratings:\")\n",
        "print(ratings.head())\n",
        "\n",
        "print(\"\\n\" + \"=\"*60)\n",
        "print(\"OBJECTIVE 1: MOST POPULAR AND LIKED GENRES\")\n",
        "print(\"=\"*60)"
      ],
      "metadata": {
        "colab": {
          "base_uri": "https://localhost:8080/"
        },
        "id": "u5k54pPM2AVr",
        "outputId": "add196e1-3f7a-4b1a-9ca5-e5a53150b4c7"
      },
      "execution_count": null,
      "outputs": [
        {
          "output_type": "stream",
          "name": "stdout",
          "text": [
            "✅ Created 10 movies and 137 ratings\n",
            "\n",
            "Sample Movies:\n",
            "   movie_id      movie_name   genre\n",
            "0         1  Action Movie 1  Action\n",
            "1         2  Comedy Movie 1  Comedy\n",
            "2         3   Drama Movie 1   Drama\n",
            "3         4  Action Movie 2  Action\n",
            "4         5  Comedy Movie 2  Comedy\n",
            "5         6   Drama Movie 2   Drama\n",
            "6         7  Action Movie 3  Action\n",
            "7         8  Comedy Movie 3  Comedy\n",
            "8         9   Drama Movie 3   Drama\n",
            "9        10  Horror Movie 1  Horror\n",
            "\n",
            "Sample Ratings:\n",
            "   user_id  movie_id  rating\n",
            "0        1         1       5\n",
            "1        1         3       5\n",
            "2        1         7       4\n",
            "3        1         9       5\n",
            "4        1        10       4\n",
            "\n",
            "============================================================\n",
            "OBJECTIVE 1: MOST POPULAR AND LIKED GENRES\n",
            "============================================================\n"
          ]
        }
      ]
    },
    {
      "cell_type": "code",
      "source": [
        "\n",
        "# Merge data\n",
        "movie_ratings = ratings.merge(movies, on='movie_id')"
      ],
      "metadata": {
        "id": "DbRXSgkH2GAb"
      },
      "execution_count": null,
      "outputs": []
    },
    {
      "cell_type": "code",
      "source": [
        "# Find popular genres\n",
        "genre_popularity = movie_ratings['genre'].value_counts()\n",
        "print(\"📊 Most Popular Genres (by number of ratings):\")\n",
        "print(genre_popularity)"
      ],
      "metadata": {
        "colab": {
          "base_uri": "https://localhost:8080/"
        },
        "id": "76ipB8ac2Nou",
        "outputId": "7c7f79c9-4493-4509-8fe6-472c52293917"
      },
      "execution_count": null,
      "outputs": [
        {
          "output_type": "stream",
          "name": "stdout",
          "text": [
            "📊 Most Popular Genres (by number of ratings):\n",
            "genre\n",
            "Comedy    42\n",
            "Drama     41\n",
            "Action    37\n",
            "Horror    17\n",
            "Name: count, dtype: int64\n"
          ]
        }
      ]
    },
    {
      "cell_type": "code",
      "source": [
        "# Find liked genres\n",
        "genre_avg_rating = movie_ratings.groupby('genre')['rating'].mean().sort_values(ascending=False)\n",
        "print(\"\\n⭐ Most Liked Genres (by average rating):\")\n",
        "print(genre_avg_rating.round(2))"
      ],
      "metadata": {
        "colab": {
          "base_uri": "https://localhost:8080/"
        },
        "id": "2lNgFZX22VBX",
        "outputId": "89934b21-35ce-4798-ef3e-34905d97f8d3"
      },
      "execution_count": null,
      "outputs": [
        {
          "output_type": "stream",
          "name": "stdout",
          "text": [
            "\n",
            "⭐ Most Liked Genres (by average rating):\n",
            "genre\n",
            "Action    3.46\n",
            "Drama     3.00\n",
            "Horror    2.82\n",
            "Comedy    2.69\n",
            "Name: rating, dtype: float64\n"
          ]
        }
      ]
    },
    {
      "cell_type": "code",
      "source": [
        "\n",
        "# Simple visualization\n",
        "plt.figure(figsize=(10, 4))\n",
        "plt.subplot(1, 2, 1)\n",
        "genre_popularity.plot(kind='bar', color='lightblue')\n",
        "plt.title('Genre Popularity')\n",
        "plt.ylabel('Number of Ratings')\n",
        "\n",
        "plt.subplot(1, 2, 2)\n",
        "genre_avg_rating.plot(kind='bar', color='lightgreen')\n",
        "plt.title('Genre Average Ratings')\n",
        "plt.ylabel('Average Rating')\n",
        "plt.tight_layout()\n",
        "plt.show()\n",
        "\n",
        "print(\"\\n\" + \"=\"*60)\n",
        "print(\"OBJECTIVE 2: CREATE MODEL FOR MOVIE RECOMMENDATIONS\")\n",
        "print(\"=\"*60)"
      ],
      "metadata": {
        "colab": {
          "base_uri": "https://localhost:8080/",
          "height": 476
        },
        "id": "maKgHIwp2c7W",
        "outputId": "78a4ef63-3fa1-4e8c-b928-62df716d1822"
      },
      "execution_count": null,
      "outputs": [
        {
          "output_type": "display_data",
          "data": {
            "text/plain": [
              "<Figure size 1000x400 with 2 Axes>"
            ],
            "image/png": "[encoded data removed]"
          },
          "metadata": {}
        },
        {
          "output_type": "stream",
          "name": "stdout",
          "text": [
            "\n",
            "============================================================\n",
            "OBJECTIVE 2: CREATE MODEL FOR MOVIE RECOMMENDATIONS\n",
            "============================================================\n"
          ]
        }
      ]
    },
    {
      "cell_type": "code",
      "source": [
        "# Prepare data for machine learning\n",
        "print(\"🤖 Creating ML Models...\")"
      ],
      "metadata": {
        "colab": {
          "base_uri": "https://localhost:8080/"
        },
        "id": "h-ZoQEr_2loq",
        "outputId": "4ba114e8-dd1e-4cf9-87c0-6a9af9316e58"
      },
      "execution_count": null,
      "outputs": [
        {
          "output_type": "stream",
          "name": "stdout",
          "text": [
            "🤖 Creating ML Models...\n"
          ]
        }
      ]
    },
    {
      "cell_type": "code",
      "source": [
        "# Create features for ML model\n",
        "# We'll predict rating based on user_id, movie_id, and genre\n",
        "ml_data = movie_ratings.copy()"
      ],
      "metadata": {
        "id": "taM7TDFC2vRE"
      },
      "execution_count": null,
      "outputs": []
    },
    {
      "cell_type": "code",
      "source": [
        "\n",
        "# Convert genre to numbers\n",
        "genre_mapping = {genre: i for i, genre in enumerate(ml_data['genre'].unique())}\n",
        "ml_data['genre_encoded'] = ml_data['genre'].map(genre_mapping)"
      ],
      "metadata": {
        "id": "g5mRYG3D3JwZ"
      },
      "execution_count": null,
      "outputs": []
    },
    {
      "cell_type": "code",
      "source": [
        "\n",
        "# Features: user_id, movie_id, genre_encoded\n",
        "X = ml_data[['user_id', 'movie_id', 'genre_encoded']]\n",
        "y = ml_data['rating']"
      ],
      "metadata": {
        "id": "4ejBGxIs3B4f"
      },
      "execution_count": null,
      "outputs": []
    },
    {
      "cell_type": "code",
      "source": [
        "\n",
        "# Split data\n",
        "X_train, X_test, y_train, y_test = train_test_split(X, y, test_size=0.2, random_state=42)"
      ],
      "metadata": {
        "id": "6-OSWzBH3UWh"
      },
      "execution_count": null,
      "outputs": []
    },
    {
      "cell_type": "code",
      "source": [
        "\n",
        "# Train different models\n",
        "models = {\n",
        "    'Linear Regression': LinearRegression(),\n",
        "    'Decision Tree': DecisionTreeRegressor(random_state=42),\n",
        "    'Random Forest': RandomForestRegressor(n_estimators=10, random_state=42)\n",
        "}"
      ],
      "metadata": {
        "id": "gPaU0q9Q3Y3C"
      },
      "execution_count": null,
      "outputs": []
    },
    {
      "cell_type": "code",
      "source": [
        "print(\"📈 Training Models...\")\n",
        "model_results = {}"
      ],
      "metadata": {
        "colab": {
          "base_uri": "https://localhost:8080/"
        },
        "id": "Hg00v8Q73gcL",
        "outputId": "4efb12e0-f1a7-4db2-ebc0-86aa5f4512d5"
      },
      "execution_count": null,
      "outputs": [
        {
          "output_type": "stream",
          "name": "stdout",
          "text": [
            "📈 Training Models...\n"
          ]
        }
      ]
    },
    {
      "cell_type": "code",
      "source": [
        "for name, model in models.items():\n",
        "    # Train model\n",
        "    model.fit(X_train, y_train)\n",
        "\n",
        "    # Make predictions\n",
        "    y_pred = model.predict(X_test)\n",
        "\n",
        "    # Calculate error\n",
        "    mse = mean_squared_error(y_test, y_pred)\n",
        "    model_results[name] = {'model': model, 'mse': mse}\n",
        "\n",
        "    print(f\"{name}: Error = {mse:.3f}\")"
      ],
      "metadata": {
        "colab": {
          "base_uri": "https://localhost:8080/"
        },
        "id": "92o5NEan3l1f",
        "outputId": "883893e3-2c8c-4e44-cfc6-d3cf0c213cf0"
      },
      "execution_count": null,
      "outputs": [
        {
          "output_type": "stream",
          "name": "stdout",
          "text": [
            "Linear Regression: Error = 2.035\n",
            "Decision Tree: Error = 4.214\n",
            "Random Forest: Error = 2.768\n"
          ]
        }
      ]
    },
    {
      "cell_type": "code",
      "source": [
        "\n",
        "# Choose best model (lowest error)\n",
        "best_model_name = min(model_results.keys(), key=lambda x: model_results[x]['mse'])\n",
        "best_model = model_results[best_model_name]['model']\n",
        "print(f\"\\n🏆 Best Model: {best_model_name}\")"
      ],
      "metadata": {
        "colab": {
          "base_uri": "https://localhost:8080/"
        },
        "id": "RbY29NgG3r6E",
        "outputId": "acf9ca95-93da-4f33-ef57-243b8e11ecc8"
      },
      "execution_count": null,
      "outputs": [
        {
          "output_type": "stream",
          "name": "stdout",
          "text": [
            "\n",
            "🏆 Best Model: Linear Regression\n"
          ]
        }
      ]
    },
    {
      "cell_type": "code",
      "source": [
        "def recommend_movies_for_user(user_id, genre=None):\n",
        "    \"\"\"Recommends movies for a given user, optionally filtered by genre.\"\"\"\n",
        "    print(f\"\\n🎯 Recommendations for User {user_id}:\")\n",
        "\n",
        "    # Get movies the user hasn't rated\n",
        "    user_rated_movies = movie_ratings[movie_ratings['user_id'] == user_id]['movie_id']\n",
        "    unrated_movies = movies[~movies['movie_id'].isin(user_rated_movies)].copy()\n",
        "\n",
        "    if genre:\n",
        "        unrated_movies = unrated_movies[unrated_movies['genre'] == genre]\n",
        "        print(f\"📽 {genre} movies for User {user_id}:\")\n",
        "    else:\n",
        "        print(f\"📽 All unrated movies for User {user_id}:\")\n",
        "\n",
        "    if unrated_movies.empty:\n",
        "        print(\"No new movies to recommend!\")\n",
        "        return\n",
        "\n",
        "    # Predict ratings for unrated movies\n",
        "    recommendations = []\n",
        "    for _, movie in unrated_movies.iterrows():\n",
        "        # Ensure genre is in mapping, handle potential new genres gracefully\n",
        "        genre_encoded = genre_mapping.get(movie['genre'], -1) # Use -1 or another indicator for unknown genres\n",
        "        if genre_encoded != -1: # Only predict if genre is known\n",
        "            predicted_rating = best_model.predict([[user_id, movie['movie_id'], genre_encoded]])[0]\n",
        "            recommendations.append({\n",
        "                'movie_name': movie['movie_name'],\n",
        "                'genre': movie['genre'],\n",
        "                'predicted_rating': round(predicted_rating, 2)\n",
        "            })\n",
        "\n",
        "    # Sort by predicted rating\n",
        "    recommendations.sort(key=lambda x: x['predicted_rating'], reverse=True)\n",
        "\n",
        "    # Show top 3 recommendations\n",
        "    for i, rec in enumerate(recommendations[:3], 1):\n",
        "        print(f\"{i}. {rec['movie_name']} ({rec['genre']}) - Predicted Rating: {rec['predicted_rating']}\")\n",
        "\n",
        "# Test recommendations\n",
        "recommend_movies_for_user(1)  # All genres\n",
        "recommend_movies_for_user(1, 'Action')  # Only Action movies\n",
        "recommend_movies_for_user(5, 'Comedy')  # Only Comedy movies\n",
        "\n",
        "print(\"\\n\" + \"=\"*60)\n",
        "print(\"OBJECTIVE 3: BEST AND WORST RATED GENRES\")\n",
        "print(\"=\"*60)"
      ],
      "metadata": {
        "colab": {
          "base_uri": "https://localhost:8080/"
        },
        "id": "6VfCv-186RWG",
        "outputId": "eb6d2f3c-4774-4515-bc6e-59fe1b8b3a6b"
      },
      "execution_count": null,
      "outputs": [
        {
          "output_type": "stream",
          "name": "stdout",
          "text": [
            "\n",
            "🎯 Recommendations for User 1:\n",
            "📽 All unrated movies for User 1:\n",
            "1. Action Movie 2 (Action) - Predicted Rating: 3.45\n",
            "2. Drama Movie 2 (Drama) - Predicted Rating: 3.29\n",
            "3. Comedy Movie 3 (Comedy) - Predicted Rating: 2.94\n",
            "\n",
            "🎯 Recommendations for User 1:\n",
            "📽 Action movies for User 1:\n",
            "1. Action Movie 2 (Action) - Predicted Rating: 3.45\n",
            "\n",
            "🎯 Recommendations for User 5:\n",
            "📽 Comedy movies for User 5:\n",
            "1. Comedy Movie 3 (Comedy) - Predicted Rating: 2.8\n",
            "2. Comedy Movie 2 (Comedy) - Predicted Rating: 2.78\n",
            "\n",
            "============================================================\n",
            "OBJECTIVE 3: BEST AND WORST RATED GENRES\n",
            "============================================================\n"
          ]
        }
      ]
    },
    {
      "cell_type": "code",
      "source": [
        "# Calculate genre statistics\n",
        "genre_stats = movie_ratings.groupby('genre')['rating'].agg(['mean', 'count']).round(2)\n",
        "genre_stats.columns = ['Average_Rating', 'Total_Ratings']\n",
        "genre_stats = genre_stats.sort_values('Average_Rating', ascending=False)\n",
        "\n",
        "print(\"Genre Rating Analysis:\")\n",
        "print(genre_stats)\n",
        "\n",
        "best_genre = genre_stats.index[0]\n",
        "worst_genre = genre_stats.index[-1]\n",
        "\n",
        "print(f\"\\n🏆 BEST RATED GENRE: {best_genre}\")\n",
        "print(f\"   Average Rating: {genre_stats.loc[best_genre, 'Average_Rating']}/5.0\")\n",
        "print(f\"   Total Ratings: {genre_stats.loc[best_genre, 'Total_Ratings']}\")\n",
        "\n",
        "print(f\"\\n📉 WORST RATED GENRE: {worst_genre}\")\n",
        "print(f\"   Average Rating: {genre_stats.loc[worst_genre, 'Average_Rating']}/5.0\")\n",
        "print(f\"   Total Ratings: {genre_stats.loc[worst_genre, 'Total_Ratings']}\")"
      ],
      "metadata": {
        "colab": {
          "base_uri": "https://localhost:8080/"
        },
        "id": "AIeMQsnc4lmw",
        "outputId": "eddcc633-d5bd-4122-9aad-33d34b53bf35"
      },
      "execution_count": null,
      "outputs": [
        {
          "output_type": "stream",
          "name": "stdout",
          "text": [
            "Genre Rating Analysis:\n",
            "        Average_Rating  Total_Ratings\n",
            "genre                                \n",
            "Action            3.46             37\n",
            "Drama             3.00             41\n",
            "Horror            2.82             17\n",
            "Comedy            2.69             42\n",
            "\n",
            "🏆 BEST RATED GENRE: Action\n",
            "   Average Rating: 3.46/5.0\n",
            "   Total Ratings: 37\n",
            "\n",
            "📉 WORST RATED GENRE: Comedy\n",
            "   Average Rating: 2.69/5.0\n",
            "   Total Ratings: 42\n"
          ]
        }
      ]
    },
    {
      "cell_type": "code",
      "source": [
        "# Simple bar chart\n",
        "plt.figure(figsize=(8, 5))\n",
        "colors = ['gold' if x == best_genre else 'red' if x == worst_genre else 'skyblue'\n",
        "          for x in genre_stats.index]\n",
        "plt.bar(genre_stats.index, genre_stats['Average_Rating'], color=colors)\n",
        "plt.title('Average Rating by Genre')\n",
        "plt.ylabel('Average Rating')\n",
        "plt.ylim(0, 5)"
      ],
      "metadata": {
        "colab": {
          "base_uri": "https://localhost:8080/",
          "height": 485
        },
        "id": "IU4_YQbJ4rN4",
        "outputId": "7c42f756-a2ca-4b4e-c3d4-7fa92ad2c7b9"
      },
      "execution_count": null,
      "outputs": [
        {
          "output_type": "execute_result",
          "data": {
            "text/plain": [
              "(0.0, 5.0)"
            ]
          },
          "metadata": {},
          "execution_count": 25
        },
        {
          "output_type": "display_data",
          "data": {
            "text/plain": [
              "<Figure size 800x500 with 1 Axes>"
            ],
            "image/png": "[encoded data removed]"
          },
          "metadata": {}
        }
      ]
    },
    {
      "cell_type": "code",
      "source": [
        "\n",
        "\n",
        "print(\"\\n📊 Final Results:\")\n",
        "print(f\"- Most Popular Genre: {genre_popularity.index[0]}\")\n",
        "print(f\"- Best Rated Genre: {best_genre} ({genre_stats.loc[best_genre, 'Average_Rating']}/5.0)\")\n",
        "print(f\"- Best ML Model: {best_model_name}\")\n",
        "print(f\"- Total Movies: {len(movies)}\")\n",
        "print(f\"- Total Users: {ratings['user_id'].nunique()}\")\n",
        "print(f\"- Total Ratings: {len(ratings)}\")\n"
      ],
      "metadata": {
        "colab": {
          "base_uri": "https://localhost:8080/"
        },
        "id": "U56iZnz042Mv",
        "outputId": "2b75677f-fd68-47b4-86aa-4bb28b73ff81"
      },
      "execution_count": null,
      "outputs": [
        {
          "output_type": "stream",
          "name": "stdout",
          "text": [
            "\n",
            "📊 Final Results:\n",
            "- Most Popular Genre: Comedy\n",
            "- Best Rated Genre: Action (3.46/5.0)\n",
            "- Best ML Model: Linear Regression\n",
            "- Total Movies: 10\n",
            "- Total Users: 20\n",
            "- Total Ratings: 137\n"
          ]
        }
      ]
    }
  ]
}